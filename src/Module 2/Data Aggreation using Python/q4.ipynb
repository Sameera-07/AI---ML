{
 "cells": [
  {
   "cell_type": "markdown",
   "metadata": {},
   "source": [
    "Title: Hands-on: Real-World Data Aggregation<br>\n",
    "Objective: Apply learned concepts to real-world data scenarios"
   ]
  },
  {
   "cell_type": "markdown",
   "metadata": {},
   "source": [
    "Task 1: Analyzing Sales by Region<br>\n",
    "\n",
    "Task: Use a real-world sales dataset to calculate yearly sales trends by region.<br>\n",
    " Steps:<br>\n",
    " 28. Acquire a dataset containing columns such as 'date', 'region', and 'sales'.<br>\n",
    " 29. Extract the year from the 'date' column.<br>\n",
    " 30. Group by 'year' and 'region' to apply the sum aggregation on 'sales'"
   ]
  },
  {
   "cell_type": "code",
   "execution_count": null,
   "metadata": {},
   "outputs": [
    {
     "name": "stdout",
     "output_type": "stream",
     "text": [
      "Yearly Sales by Region:\n",
      "   year region  sales\n",
      "0  2023   East   1300\n",
      "1  2023  North   1200\n",
      "2  2023  South   1500\n",
      "3  2024   East   1800\n",
      "4  2024  North   1600\n",
      "5  2024  South   1700\n"
     ]
    }
   ],
   "source": [
    "import pandas as pd\n",
    "\n",
    "data = {\n",
    "    'date': ['2023-01-10', '2023-06-25', '2024-03-14', '2024-11-05', '2023-09-17', '2024-07-22'],\n",
    "    'region': ['North', 'South', 'East', 'North', 'East', 'South'],\n",
    "    'sales': [1200, 1500, 1800, 1600, 1300, 1700]\n",
    "}\n",
    "\n",
    "df = pd.DataFrame(data)\n",
    "df['date'] = pd.to_datetime(df['date'])\n",
    "df['year'] = df['date'].dt.year\n",
    "yearly_sales = df.groupby(['year', 'region'])['sales'].sum().reset_index()\n",
    "print(\"Yearly Sales by Region:\")\n",
    "print(yearly_sales)\n"
   ]
  },
  {
   "cell_type": "markdown",
   "metadata": {},
   "source": [
    "Task 2: Customer Purchase Patterns<br>\n",
    "\n",
    "Task: Find the top 5 customers by the total amount spent using a purchases dataset.<br>\n",
    " Steps:<br>\n",
    " 31. Load a dataset with 'customer_id' and 'amount_spent'.<br>\n",
    " 32. Group by 'customer_id'.<br>\n",
    " 33. Use .sum() on 'amount_spent' and sort values"
   ]
  },
  {
   "cell_type": "code",
   "execution_count": 2,
   "metadata": {},
   "outputs": [
    {
     "name": "stdout",
     "output_type": "stream",
     "text": [
      "Top 5 Customers by Total Amount Spent:\n",
      "customer_id\n",
      "106    500\n",
      "103    450\n",
      "104    400\n",
      "101    350\n",
      "102    350\n",
      "Name: amount_spent, dtype: int64\n"
     ]
    }
   ],
   "source": [
    "import pandas as pd\n",
    "\n",
    "data = {\n",
    "    'customer_id': [101, 102, 103, 104, 105, 101, 102, 103, 106, 101],\n",
    "    'amount_spent': [200, 150, 300, 400, 250, 100, 200, 150, 500, 50]\n",
    "}\n",
    "\n",
    "df = pd.DataFrame(data)\n",
    "grouped = df.groupby('customer_id')['amount_spent'].sum()\n",
    "top_customers = grouped.sort_values(ascending=False).head(5)\n",
    "print(\"Top 5 Customers by Total Amount Spent:\")\n",
    "print(top_customers)\n"
   ]
  },
  {
   "cell_type": "markdown",
   "metadata": {},
   "source": [
    " Task 3: Seasonality Analysis<br>\n",
    "\n",
    " Task: Determine which months have the highest and lowest sales for a retail dataset.<br>\n",
    " Steps:<br>\n",
    " 34. Use a dataset with 'transaction_date' and 'sales'.<br>\n",
    " 35. Extract the month from 'transaction_date'.<br>\n",
    " 36. Group by 'month' and sum 'sales', then sort to find extremes"
   ]
  },
  {
   "cell_type": "code",
   "execution_count": 1,
   "metadata": {},
   "outputs": [
    {
     "name": "stdout",
     "output_type": "stream",
     "text": [
      "Monthly Sales Totals (Descending):\n",
      "month\n",
      "January     600\n",
      "February    550\n",
      "March       250\n",
      "Name: sales, dtype: int64\n",
      "\n",
      "Highest Sales Month: January\n",
      "Lowest Sales Month: March\n"
     ]
    }
   ],
   "source": [
    "import pandas as pd\n",
    "\n",
    "data = {\n",
    "    'transaction_date': ['2023-01-15', '2023-02-10', '2023-03-22', '2023-01-30', '2023-02-18', '2023-03-05'],\n",
    "    'sales': [200, 300, 150, 400, 250, 100]\n",
    "}\n",
    "\n",
    "df = pd.DataFrame(data)\n",
    "df['transaction_date'] = pd.to_datetime(df['transaction_date'])\n",
    "df['month'] = df['transaction_date'].dt.month_name()\n",
    "monthly_sales = df.groupby('month')['sales'].sum().sort_values(ascending=False)\n",
    "print(\"Monthly Sales Totals (Descending):\")\n",
    "print(monthly_sales)\n",
    "\n",
    "\n",
    "highest_month = monthly_sales.idxmax()\n",
    "lowest_month = monthly_sales.idxmin()\n",
    "\n",
    "print(f\"\\nHighest Sales Month: {highest_month}\")\n",
    "print(f\"Lowest Sales Month: {lowest_month}\")\n"
   ]
  }
 ],
 "metadata": {
  "kernelspec": {
   "display_name": "Python 3",
   "language": "python",
   "name": "python3"
  },
  "language_info": {
   "codemirror_mode": {
    "name": "ipython",
    "version": 3
   },
   "file_extension": ".py",
   "mimetype": "text/x-python",
   "name": "python",
   "nbconvert_exporter": "python",
   "pygments_lexer": "ipython3",
   "version": "3.10.12"
  }
 },
 "nbformat": 4,
 "nbformat_minor": 2
}
