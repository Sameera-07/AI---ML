{
 "cells": [
  {
   "cell_type": "markdown",
   "metadata": {},
   "source": [
    "Title: Grouping & Aggregating Data using Pandas<br>\n",
    "Objective: Learn how to group data and perform aggregations on these groups."
   ]
  },
  {
   "cell_type": "markdown",
   "metadata": {},
   "source": [
    "Task 1: Grouping by a Single Column<br>\n",
    "\n",
    "Task: Group the dataset by 'region' and calculate total sales per region.<br>\n",
    "Steps:<br>\n",
    "10. Load the dataset.<br>\n",
    "11. Use groupby('region') on the DataFrame.<br>\n",
    "12. Apply .sum() to the 'sales' column."
   ]
  },
  {
   "cell_type": "code",
   "execution_count": 4,
   "metadata": {},
   "outputs": [
    {
     "name": "stdout",
     "output_type": "stream",
     "text": [
      "Total Sales per Region:\n",
      "region\n",
      "East     650\n",
      "North    650\n",
      "South    300\n",
      "Name: sales, dtype: int64\n"
     ]
    }
   ],
   "source": [
    "import pandas as pd\n",
    "\n",
    "data = {\n",
    "    'region': ['North', 'South', 'East', 'North', 'East'],\n",
    "    'sales': [250, 300, 150, 400, 500],\n",
    "    'profit': [50, 60, 30, 80, 90],\n",
    "    'quantity': [2, 3, 1, 5, 4]\n",
    "}\n",
    "\n",
    "df = pd.DataFrame(data)\n",
    "grouped = df.groupby('region')\n",
    "total_sales_per_region = grouped['sales'].sum()\n",
    "print(\"Total Sales per Region:\")\n",
    "print(total_sales_per_region)\n"
   ]
  },
  {
   "cell_type": "markdown",
   "metadata": {},
   "source": [
    "Task 2: Grouping by Multiple Columns<br>\n",
    "\n",
    "Task: Group the dataset by 'region' and 'category', then find the average sales.<br>\n",
    "Steps:<br>\n",
    "13. Group by ['region', 'category'].<br>\n",
    "14. Use .mean() on the 'sales' column.<br>\n",
    "15. Examine the resulting DataFrame structure."
   ]
  },
  {
   "cell_type": "code",
   "execution_count": 5,
   "metadata": {},
   "outputs": [
    {
     "name": "stdout",
     "output_type": "stream",
     "text": [
      "Average Sales by Region and Category:\n",
      "region  category\n",
      "East    A           500.0\n",
      "        B           150.0\n",
      "North   A           250.0\n",
      "        B           400.0\n",
      "South   A           300.0\n",
      "        B           200.0\n",
      "Name: sales, dtype: float64\n"
     ]
    }
   ],
   "source": [
    "import pandas as pd\n",
    "\n",
    "data = {\n",
    "    'region': ['North', 'South', 'East', 'North', 'East', 'South'],\n",
    "    'category': ['A', 'A', 'B', 'B', 'A', 'B'],\n",
    "    'sales': [250, 300, 150, 400, 500, 200],\n",
    "    'profit': [50, 60, 30, 80, 90, 40],\n",
    "    'quantity': [2, 3, 1, 5, 4, 2]\n",
    "}\n",
    "\n",
    "df = pd.DataFrame(data)\n",
    "grouped_avg_sales = df.groupby(['region', 'category'])['sales'].mean()\n",
    "print(\"Average Sales by Region and Category:\")\n",
    "print(grouped_avg_sales)\n"
   ]
  },
  {
   "cell_type": "markdown",
   "metadata": {},
   "source": [
    "Task 3: Aggregating Multiple Functions<br>\n",
    "\n",
    "Task: Group data by 'category' and apply multiple aggregation functions (sum and count) on 'quantity'.<br>\n",
    "Steps:<br>\n",
    "16. Group by 'category'.<br>\n",
    "17. Use .agg(['sum', 'count']) on 'quantity'.<br>\n",
    "18. Analyze the result to understand how multiple aggregations work."
   ]
  },
  {
   "cell_type": "code",
   "execution_count": 6,
   "metadata": {},
   "outputs": [
    {
     "name": "stdout",
     "output_type": "stream",
     "text": [
      "Aggregated Quantity by Category:\n",
      "          sum  count\n",
      "category            \n",
      "A           5      3\n",
      "B          12      3\n"
     ]
    }
   ],
   "source": [
    "import pandas as pd\n",
    "\n",
    "data = {\n",
    "    'region': ['North', 'South', 'East', 'North', 'East', 'South'],\n",
    "    'category': ['A', 'B', 'A', 'B', 'B', 'A'],\n",
    "    'sales': [250, 300, 150, 400, 500, 200],\n",
    "    'quantity': [2, 3, 1, 5, 4, 2]\n",
    "}\n",
    "\n",
    "df = pd.DataFrame(data)\n",
    "\n",
    "grouped = df.groupby('category')\n",
    "aggregated_quantity = grouped['quantity'].agg(['sum', 'count'])\n",
    "print(\"Aggregated Quantity by Category:\")\n",
    "print(aggregated_quantity)\n"
   ]
  }
 ],
 "metadata": {
  "kernelspec": {
   "display_name": "Python 3",
   "language": "python",
   "name": "python3"
  },
  "language_info": {
   "codemirror_mode": {
    "name": "ipython",
    "version": 3
   },
   "file_extension": ".py",
   "mimetype": "text/x-python",
   "name": "python",
   "nbconvert_exporter": "python",
   "pygments_lexer": "ipython3",
   "version": "3.10.12"
  }
 },
 "nbformat": 4,
 "nbformat_minor": 2
}
