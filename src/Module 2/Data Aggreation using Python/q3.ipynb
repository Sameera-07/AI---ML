{
 "cells": [
  {
   "cell_type": "markdown",
   "metadata": {},
   "source": [
    "Pivot Tables & Advanced Aggregations<br>\n",
    "Objective: Utilize pivot tables for complex aggregation tasks."
   ]
  },
  {
   "cell_type": "markdown",
   "metadata": {},
   "source": [
    "Task 1: Creating a Basic Pivot Table<br>\n",
    "Task: Create a pivot table that shows the total sales for each 'category' across 'years'.<br>\n",
    "Steps:<br>\n",
    "19. Use pandas pivot_table() function.<br>\n",
    "20. Set index='year' and columns='category' .<br>\n",
    "21. Define the value parameter as 'sales' and aggregation function as np.sum ."
   ]
  },
  {
   "cell_type": "code",
   "execution_count": 5,
   "metadata": {},
   "outputs": [
    {
     "name": "stdout",
     "output_type": "stream",
     "text": [
      "Pivot Table: Total Sales by Category and Year\n",
      "category    A    B\n",
      "year              \n",
      "2023      250  400\n",
      "2024      350  400\n"
     ]
    },
    {
     "name": "stderr",
     "output_type": "stream",
     "text": [
      "/tmp/ipykernel_8727/2065720052.py:12: FutureWarning: The provided callable <function sum at 0x7de1a7f5b880> is currently using DataFrameGroupBy.sum. In a future version of pandas, the provided callable will be used directly. To keep current behavior pass the string \"sum\" instead.\n",
      "  pivot_table = pd.pivot_table(\n"
     ]
    }
   ],
   "source": [
    "import pandas as pd\n",
    "import numpy as np\n",
    "\n",
    "data = {\n",
    "    'year': [2023, 2023, 2024, 2024, 2024, 2023],\n",
    "    'category': ['A', 'B', 'A', 'B', 'A', 'B'],\n",
    "    'sales': [250, 300, 150, 400, 200, 100],\n",
    "    'quantity': [2, 3, 1, 5, 2, 4]\n",
    "}\n",
    "\n",
    "df = pd.DataFrame(data)\n",
    "pivot_table = pd.pivot_table(\n",
    "    df, \n",
    "    index='year', \n",
    "    columns='category', \n",
    "    values='sales', \n",
    "    aggfunc=np.sum)\n",
    "print(\"Pivot Table: Total Sales by Category and Year\")\n",
    "print(pivot_table)"
   ]
  },
  {
   "cell_type": "markdown",
   "metadata": {},
   "source": [
    "Task 2: Pivot Table with Multiple Aggregations<br>\n",
    "\n",
    "Task: Generate a pivot table with both mean and max of 'profit' for 'category' each month.<br>\n",
    "Steps:<br>\n",
    "22. Create a pivot table.<br>\n",
    "23. Use aggfunc=['mean', 'max'] .<br>\n",
    "24. Analyze the pivot table output."
   ]
  },
  {
   "cell_type": "code",
   "execution_count": 6,
   "metadata": {},
   "outputs": [
    {
     "name": "stdout",
     "output_type": "stream",
     "text": [
      "Pivot Table: Mean and Max Profit by Category and Month\n",
      "          mean       max    \n",
      "category     A     B   A   B\n",
      "month                       \n",
      "Feb       60.0  90.0  60  90\n",
      "Jan       50.0  70.0  50  70\n",
      "Mar       55.0  80.0  55  80\n"
     ]
    }
   ],
   "source": [
    "import pandas as pd\n",
    "import numpy as np\n",
    "\n",
    "data = {\n",
    "    'month': ['Jan', 'Jan', 'Feb', 'Feb', 'Mar', 'Mar'],\n",
    "    'category': ['A', 'B', 'A', 'B', 'A', 'B'],\n",
    "    'profit': [50, 70, 60, 90, 55, 80]\n",
    "}\n",
    "\n",
    "df = pd.DataFrame(data)\n",
    "pivot_table = pd.pivot_table(\n",
    "    df,\n",
    "    index='month',\n",
    "    columns='category',\n",
    "    values='profit',\n",
    "    aggfunc=['mean', 'max']\n",
    ")\n",
    "print(\"Pivot Table: Mean and Max Profit by Category and Month\")\n",
    "print(pivot_table)\n"
   ]
  },
  {
   "cell_type": "markdown",
   "metadata": {},
   "source": [
    "Task 3: Advanced Pivot Table with Margins<br>\n",
    "\n",
    "Task: Create a pivot table that includes subtotals for each 'region' and 'category'.<br>\n",
    "Steps:<br>\n",
    "25. Use pivot_table() with margins=True .<br>\n",
    "26. Set the index and columns appropriately.<br>\n",
    "27. Validate subtotal correctness by summing manually."
   ]
  },
  {
   "cell_type": "code",
   "execution_count": 7,
   "metadata": {},
   "outputs": [
    {
     "name": "stdout",
     "output_type": "stream",
     "text": [
      "Pivot Table with Subtotals (Margins):\n",
      "category    A     B  Total\n",
      "region                    \n",
      "East      150   500    650\n",
      "North     250   400    650\n",
      "South     200   300    500\n",
      "Total     600  1200   1800\n"
     ]
    }
   ],
   "source": [
    "import pandas as pd\n",
    "\n",
    "data = {\n",
    "    'region': ['North', 'South', 'East', 'North', 'East', 'South'],\n",
    "    'category': ['A', 'B', 'A', 'B', 'B', 'A'],\n",
    "    'sales': [250, 300, 150, 400, 500, 200]\n",
    "}\n",
    "\n",
    "df = pd.DataFrame(data)\n",
    "pivot_table = pd.pivot_table(\n",
    "    df,\n",
    "    index='region',\n",
    "    columns='category',\n",
    "    values='sales',\n",
    "    aggfunc='sum',\n",
    "    margins=True,\n",
    "    margins_name='Total' \n",
    ")\n",
    "print(\"Pivot Table with Subtotals (Margins):\")\n",
    "print(pivot_table)\n",
    "\n"
   ]
  }
 ],
 "metadata": {
  "kernelspec": {
   "display_name": "Python 3",
   "language": "python",
   "name": "python3"
  },
  "language_info": {
   "codemirror_mode": {
    "name": "ipython",
    "version": 3
   },
   "file_extension": ".py",
   "mimetype": "text/x-python",
   "name": "python",
   "nbconvert_exporter": "python",
   "pygments_lexer": "ipython3",
   "version": "3.10.12"
  }
 },
 "nbformat": 4,
 "nbformat_minor": 2
}
